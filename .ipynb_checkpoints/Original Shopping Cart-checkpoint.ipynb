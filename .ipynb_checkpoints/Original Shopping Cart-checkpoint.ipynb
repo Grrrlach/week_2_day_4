{
 "cells": [
  {
   "cell_type": "code",
   "execution_count": null,
   "id": "31ab5a6b",
   "metadata": {},
   "outputs": [],
   "source": [
    "from IPython.display import clear_output\n",
    "\n",
    "# Ask the user four bits of input: Do you want to : Show/Add/Delete or Quit?\n",
    "\n",
    "\n",
    "\n",
    "def shopping_cart():\n",
    "    my_cart = {}\n",
    "    while True:\n",
    "        options = input(\"What would you like to do, ADD an item, REMOVE one, or QUIT? \")\n",
    "        if options.lower()== \"quit\":\n",
    "            print (\"Your cart currently contains: \")\n",
    "            for stuff, qty in my_cart.items():\n",
    "                [print(stuff,\":\",qty) for stuff, qty in my_cart.items()]\n",
    "                #this identical code didn't work in this loop, but did in others, and I don't know why:\n",
    "                #print (stuff, \" : \", qty)\n",
    "                print (\"Number of items you have ordered: \")             \n",
    "                print (sum(my_cart.values()))\n",
    "                print (\"Thank you for shopping with us!\")\n",
    "                break\n",
    "            break\n",
    "\n",
    "        if options.lower() == \"add\":\n",
    "            stuff = input (\"What would you like to add? \")\n",
    "            qty = input (\"How many would you like? \")\n",
    "            while not qty.isdigit():\n",
    "                qty = input (\"Please enter a number. How many would you like? \")\n",
    "            qty = int(qty)\n",
    "            my_cart.update({stuff:qty})\n",
    "            print (\"Your cart currently contains: \")\n",
    "            for stuff, qty in my_cart.items():\n",
    "                print (stuff, \" : \", qty)\n",
    "\n",
    "        if options.lower() == \"remove\":\n",
    "            stuff = input (\"Which item would you like to remove? \")\n",
    "            confirm = input (\"This will remove any item with that name. Type YES to confirm. \")\n",
    "            if confirm.lower() == \"yes\":\n",
    "                if stuff in my_cart:\n",
    "                    del my_cart [stuff]\n",
    "            print (\"Your cart currently contains: \")\n",
    "            for stuff, qty in my_cart.items():\n",
    "                print (stuff, \" : \", qty)\n",
    "shopping_cart()\n",
    "            \n"
   ]
  }
 ],
 "metadata": {
  "kernelspec": {
   "display_name": "Python 3",
   "language": "python",
   "name": "python3"
  },
  "language_info": {
   "codemirror_mode": {
    "name": "ipython",
    "version": 3
   },
   "file_extension": ".py",
   "mimetype": "text/x-python",
   "name": "python",
   "nbconvert_exporter": "python",
   "pygments_lexer": "ipython3",
   "version": "3.8.8"
  }
 },
 "nbformat": 4,
 "nbformat_minor": 5
}
